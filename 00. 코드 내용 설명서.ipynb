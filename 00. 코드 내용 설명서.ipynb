{
 "cells": [
  {
   "cell_type": "markdown",
   "id": "1d3cc2ea",
   "metadata": {},
   "source": [
    "# 코드 내용 설명서"
   ]
  },
  {
   "cell_type": "markdown",
   "id": "9a27955d",
   "metadata": {},
   "source": [
    "## Raw 데이터\n",
    "\n",
    "- 국가공휴일.csv\n",
    "  - 파생변수 'holiday_cnt'를 생성하기 위한 데이터\n",
    "- 제주특별자치도_편의점정보\n",
    "  - 파생변수 '편의점 수'를 생성하기 위한 데이터\n",
    "- fin_data1.csv\n",
    "  - 제공 데이터 (음식물 쓰레기, 내국인, 장기체류 외국인, 단기체류 외국인, 거주인구, 음식 관련 카드 소비) 모두 년,월,동별 합친 데이터\n",
    "  - 전처리 완료된 데이터\n",
    "- concat78.csv\n",
    "  - fin_data1.csv를 통해 각 동별 피처를 예측하고 예측한 7,8월 피처를 합친 데이터\n",
    "- submission.csv\n",
    "  - 행정동별 배출량 예측 결과 데이터\n"
   ]
  },
  {
   "cell_type": "markdown",
   "id": "51e1e31f",
   "metadata": {},
   "source": [
    "## 코딩자료(.ipynb)"
   ]
  },
  {
   "cell_type": "markdown",
   "id": "509392a0",
   "metadata": {},
   "source": [
    "### 코드 내용 설명서\n",
    "### EDA 및 전처리\n",
    "  - 제공 데이터 EDA\n",
    "  - 제공 데이터 년,월,동별 합계 또는 평균으로 Merge\n",
    "  - 파생변수 : season, holiday_cnt, 편의점 수 생성하여 추가\n",
    "  - '구좌읍', '조천읍', '한경면', '한림읍','알수없음' 결측치 채우기\n",
    "\n",
    "### 피처 예측 모델링\n",
    "  - 2021년 7,8월 피처에 대해 시계열 모델 ARIMA를 사용하여 예측 후 데이터 Merge\n",
    "\n",
    "### 행정동별 배출량 예측 모델링\n",
    "  - 최종 행정동별 배출량 예측 \n",
    "  - XGBoostRegressor 모델 사용하여 최종 예측"
   ]
  },
  {
   "cell_type": "code",
   "execution_count": null,
   "id": "bcd60878",
   "metadata": {},
   "outputs": [],
   "source": []
  }
 ],
 "metadata": {
  "kernelspec": {
   "display_name": "Python 3",
   "language": "python",
   "name": "python3"
  },
  "language_info": {
   "codemirror_mode": {
    "name": "ipython",
    "version": 3
   },
   "file_extension": ".py",
   "mimetype": "text/x-python",
   "name": "python",
   "nbconvert_exporter": "python",
   "pygments_lexer": "ipython3",
   "version": "3.8.5"
  },
  "toc": {
   "base_numbering": 1,
   "nav_menu": {},
   "number_sections": true,
   "sideBar": true,
   "skip_h1_title": false,
   "title_cell": "Table of Contents",
   "title_sidebar": "Contents",
   "toc_cell": false,
   "toc_position": {},
   "toc_section_display": true,
   "toc_window_display": false
  }
 },
 "nbformat": 4,
 "nbformat_minor": 5
}
